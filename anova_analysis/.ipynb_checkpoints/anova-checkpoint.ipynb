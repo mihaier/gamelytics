{
 "cells": [
  {
   "cell_type": "code",
   "execution_count": 72,
   "metadata": {},
   "outputs": [],
   "source": [
    "import pandas as pd\n",
    "import numpy as np\n",
    "import io\n",
    "import plotly \n",
    "import plotly.graph_objects as go\n",
    "import plotly.express as px\n",
    "import scipy.stats as ss\n",
    "import statsmodels\n",
    "import statsmodels.stats.proportion as proportion\n",
    "import statsmodels.stats.multitest as multitest"
   ]
  },
  {
   "cell_type": "code",
   "execution_count": 73,
   "metadata": {},
   "outputs": [],
   "source": [
    "import warnings\n",
    "warnings.filterwarnings(\"ignore\")"
   ]
  },
  {
   "cell_type": "markdown",
   "metadata": {},
   "source": [
    "#### There are two datasets - installs with country and user id and purchases with user id and purchase sum\n",
    "\n",
    "#### we have to understand if user's behaviuor in terms of payments (convertion and payments sum) varies between UK, US and Canada in our mobile app \n",
    "\n",
    "\n",
    "#### all users installed same app version and same amount of days passed for all users \n"
   ]
  },
  {
   "cell_type": "code",
   "execution_count": null,
   "metadata": {},
   "outputs": [],
   "source": []
  },
  {
   "cell_type": "code",
   "execution_count": null,
   "metadata": {},
   "outputs": [],
   "source": []
  },
  {
   "cell_type": "code",
   "execution_count": 76,
   "metadata": {},
   "outputs": [],
   "source": [
    "installs=pd.read_csv('materials/users.csv')\n",
    "purchases=pd.read_csv('materials/purchases.csv')"
   ]
  },
  {
   "cell_type": "code",
   "execution_count": 77,
   "metadata": {},
   "outputs": [
    {
     "data": {
      "text/plain": [
       "1000"
      ]
     },
     "execution_count": 77,
     "metadata": {},
     "output_type": "execute_result"
    }
   ],
   "source": [
    "installs['user_id'].count()"
   ]
  },
  {
   "cell_type": "code",
   "execution_count": 78,
   "metadata": {},
   "outputs": [
    {
     "data": {
      "text/plain": [
       "array(['United States', 'Canada', 'United Kingdom'], dtype=object)"
      ]
     },
     "execution_count": 78,
     "metadata": {},
     "output_type": "execute_result"
    }
   ],
   "source": [
    "installs['country'].unique()"
   ]
  },
  {
   "cell_type": "code",
   "execution_count": 79,
   "metadata": {},
   "outputs": [
    {
     "name": "stdout",
     "output_type": "stream",
     "text": [
      "<class 'pandas.core.frame.DataFrame'>\n",
      "RangeIndex: 1000 entries, 0 to 999\n",
      "Data columns (total 2 columns):\n",
      " #   Column   Non-Null Count  Dtype \n",
      "---  ------   --------------  ----- \n",
      " 0   user_id  1000 non-null   object\n",
      " 1   country  1000 non-null   object\n",
      "dtypes: object(2)\n",
      "memory usage: 15.8+ KB\n"
     ]
    }
   ],
   "source": [
    "installs.info()"
   ]
  },
  {
   "cell_type": "code",
   "execution_count": null,
   "metadata": {},
   "outputs": [],
   "source": []
  },
  {
   "cell_type": "code",
   "execution_count": 81,
   "metadata": {},
   "outputs": [
    {
     "data": {
      "text/plain": [
       "252"
      ]
     },
     "execution_count": 81,
     "metadata": {},
     "output_type": "execute_result"
    }
   ],
   "source": [
    "# lets check purchases dataset\n",
    "purchases['user_id'].count() #total num of transactions\n"
   ]
  },
  {
   "cell_type": "code",
   "execution_count": 82,
   "metadata": {},
   "outputs": [
    {
     "data": {
      "text/plain": [
       "63"
      ]
     },
     "execution_count": 82,
     "metadata": {},
     "output_type": "execute_result"
    }
   ],
   "source": [
    "purchases['user_id'].nunique()#unique payers "
   ]
  },
  {
   "cell_type": "code",
   "execution_count": 83,
   "metadata": {},
   "outputs": [
    {
     "data": {
      "text/html": [
       "<div>\n",
       "<style scoped>\n",
       "    .dataframe tbody tr th:only-of-type {\n",
       "        vertical-align: middle;\n",
       "    }\n",
       "\n",
       "    .dataframe tbody tr th {\n",
       "        vertical-align: top;\n",
       "    }\n",
       "\n",
       "    .dataframe thead th {\n",
       "        text-align: right;\n",
       "    }\n",
       "</style>\n",
       "<table border=\"1\" class=\"dataframe\">\n",
       "  <thead>\n",
       "    <tr style=\"text-align: right;\">\n",
       "      <th></th>\n",
       "      <th>user_id</th>\n",
       "      <th>purchase_sum</th>\n",
       "    </tr>\n",
       "  </thead>\n",
       "  <tbody>\n",
       "    <tr>\n",
       "      <th>0</th>\n",
       "      <td>user_id_409</td>\n",
       "      <td>17.99</td>\n",
       "    </tr>\n",
       "    <tr>\n",
       "      <th>1</th>\n",
       "      <td>user_id_549</td>\n",
       "      <td>3.49</td>\n",
       "    </tr>\n",
       "    <tr>\n",
       "      <th>2</th>\n",
       "      <td>user_id_596</td>\n",
       "      <td>11.99</td>\n",
       "    </tr>\n",
       "    <tr>\n",
       "      <th>3</th>\n",
       "      <td>user_id_732</td>\n",
       "      <td>17.99</td>\n",
       "    </tr>\n",
       "    <tr>\n",
       "      <th>4</th>\n",
       "      <td>user_id_238</td>\n",
       "      <td>3.49</td>\n",
       "    </tr>\n",
       "  </tbody>\n",
       "</table>\n",
       "</div>"
      ],
      "text/plain": [
       "       user_id  purchase_sum\n",
       "0  user_id_409         17.99\n",
       "1  user_id_549          3.49\n",
       "2  user_id_596         11.99\n",
       "3  user_id_732         17.99\n",
       "4  user_id_238          3.49"
      ]
     },
     "execution_count": 83,
     "metadata": {},
     "output_type": "execute_result"
    }
   ],
   "source": [
    "purchases.head()"
   ]
  },
  {
   "cell_type": "code",
   "execution_count": 84,
   "metadata": {},
   "outputs": [],
   "source": [
    "# mark payers and count convertion to payers (c2p) for all 3 versions\n",
    "\n",
    "installs['is_payer']=np.where(installs['user_id'].isin(purchases['user_id']),1,0)"
   ]
  },
  {
   "cell_type": "code",
   "execution_count": 85,
   "metadata": {},
   "outputs": [
    {
     "data": {
      "text/html": [
       "<div>\n",
       "<style scoped>\n",
       "    .dataframe tbody tr th:only-of-type {\n",
       "        vertical-align: middle;\n",
       "    }\n",
       "\n",
       "    .dataframe tbody tr th {\n",
       "        vertical-align: top;\n",
       "    }\n",
       "\n",
       "    .dataframe thead th {\n",
       "        text-align: right;\n",
       "    }\n",
       "</style>\n",
       "<table border=\"1\" class=\"dataframe\">\n",
       "  <thead>\n",
       "    <tr style=\"text-align: right;\">\n",
       "      <th></th>\n",
       "      <th>country</th>\n",
       "      <th>user_id</th>\n",
       "      <th>is_payer</th>\n",
       "      <th>c2p%</th>\n",
       "    </tr>\n",
       "  </thead>\n",
       "  <tbody>\n",
       "    <tr>\n",
       "      <th>0</th>\n",
       "      <td>Canada</td>\n",
       "      <td>337</td>\n",
       "      <td>20</td>\n",
       "      <td>0.059</td>\n",
       "    </tr>\n",
       "    <tr>\n",
       "      <th>1</th>\n",
       "      <td>United Kingdom</td>\n",
       "      <td>338</td>\n",
       "      <td>25</td>\n",
       "      <td>0.074</td>\n",
       "    </tr>\n",
       "    <tr>\n",
       "      <th>2</th>\n",
       "      <td>United States</td>\n",
       "      <td>325</td>\n",
       "      <td>18</td>\n",
       "      <td>0.055</td>\n",
       "    </tr>\n",
       "  </tbody>\n",
       "</table>\n",
       "</div>"
      ],
      "text/plain": [
       "          country  user_id  is_payer   c2p%\n",
       "0          Canada      337        20  0.059\n",
       "1  United Kingdom      338        25  0.074\n",
       "2   United States      325        18  0.055"
      ]
     },
     "execution_count": 85,
     "metadata": {},
     "output_type": "execute_result"
    }
   ],
   "source": [
    "# combining joined pivot table with total number of installs and payers for each country\n",
    "\n",
    "installs_pvt=installs.pivot_table(values=['user_id','is_payer'],\n",
    "                    index=['country'],\n",
    "                    aggfunc={'user_id':'count',\n",
    "                            'is_payer':'sum'})[['user_id','is_payer']]\n",
    "\n",
    "installs_pvt['c2p%']=round((installs_pvt['is_payer']/installs_pvt['user_id']),3)\n",
    "installs_pvt=installs_pvt.reset_index()\n",
    "installs_pvt"
   ]
  },
  {
   "cell_type": "code",
   "execution_count": 87,
   "metadata": {},
   "outputs": [
    {
     "data": {
      "text/html": [
       "<div>\n",
       "<style scoped>\n",
       "    .dataframe tbody tr th:only-of-type {\n",
       "        vertical-align: middle;\n",
       "    }\n",
       "\n",
       "    .dataframe tbody tr th {\n",
       "        vertical-align: top;\n",
       "    }\n",
       "\n",
       "    .dataframe thead th {\n",
       "        text-align: right;\n",
       "    }\n",
       "</style>\n",
       "<table border=\"1\" class=\"dataframe\">\n",
       "  <thead>\n",
       "    <tr style=\"text-align: right;\">\n",
       "      <th></th>\n",
       "      <th>pairs</th>\n",
       "      <th>pval</th>\n",
       "    </tr>\n",
       "  </thead>\n",
       "  <tbody>\n",
       "    <tr>\n",
       "      <th>0</th>\n",
       "      <td>(0, 1)</td>\n",
       "      <td>0.446519</td>\n",
       "    </tr>\n",
       "    <tr>\n",
       "      <th>1</th>\n",
       "      <td>(0, 2)</td>\n",
       "      <td>0.826558</td>\n",
       "    </tr>\n",
       "    <tr>\n",
       "      <th>2</th>\n",
       "      <td>(1, 2)</td>\n",
       "      <td>0.331492</td>\n",
       "    </tr>\n",
       "  </tbody>\n",
       "</table>\n",
       "</div>"
      ],
      "text/plain": [
       "    pairs      pval\n",
       "0  (0, 1)  0.446519\n",
       "1  (0, 2)  0.826558\n",
       "2  (1, 2)  0.331492"
      ]
     },
     "execution_count": 87,
     "metadata": {},
     "output_type": "execute_result"
    }
   ],
   "source": [
    "# to find if there is a significant diffirenece berween groups in convertion lets provide chisquare group comparison \n",
    "# with bonferroni correction \n",
    "\n",
    "trials=np.array(installs_pvt['user_id'])\n",
    "successes=np.array(installs_pvt['is_payer'])\n",
    "\n",
    "comparasion=proportion.proportions_chisquare_allpairs(successes, trials, multitest_method='bonferroni').__dict__\n",
    "\n",
    "\n",
    "# building pairs comparasion dataset \n",
    "comparasion_df=pd.DataFrame({'pairs':comparasion.get('all_pairs'),'pval':comparasion.get('pvals_raw')}) \n",
    "comparasion_df"
   ]
  },
  {
   "cell_type": "code",
   "execution_count": 88,
   "metadata": {},
   "outputs": [],
   "source": [
    "# as we see there is no significant difference in the convertion lvl as pval > 0.05 for all groups comparasions "
   ]
  },
  {
   "cell_type": "code",
   "execution_count": 89,
   "metadata": {},
   "outputs": [],
   "source": [
    "# creating purchasese pivot and adding user version \n",
    "purchases_pvt=purchases.pivot_table(values=['purchase_sum'],\n",
    "                     index='user_id',\n",
    "                     aggfunc='sum').reset_index()\n",
    "\n",
    "\n",
    "purchases_pvt=purchases_pvt.merge(installs[['user_id','country']],on='user_id',how='left')"
   ]
  },
  {
   "cell_type": "code",
   "execution_count": 90,
   "metadata": {},
   "outputs": [
    {
     "data": {
      "text/html": [
       "<div>\n",
       "<style scoped>\n",
       "    .dataframe tbody tr th:only-of-type {\n",
       "        vertical-align: middle;\n",
       "    }\n",
       "\n",
       "    .dataframe tbody tr th {\n",
       "        vertical-align: top;\n",
       "    }\n",
       "\n",
       "    .dataframe thead th {\n",
       "        text-align: right;\n",
       "    }\n",
       "</style>\n",
       "<table border=\"1\" class=\"dataframe\">\n",
       "  <thead>\n",
       "    <tr style=\"text-align: right;\">\n",
       "      <th></th>\n",
       "      <th>user_id</th>\n",
       "      <th>purchase_sum</th>\n",
       "      <th>country</th>\n",
       "    </tr>\n",
       "  </thead>\n",
       "  <tbody>\n",
       "    <tr>\n",
       "      <th>0</th>\n",
       "      <td>user_id_107</td>\n",
       "      <td>7.5</td>\n",
       "      <td>United Kingdom</td>\n",
       "    </tr>\n",
       "  </tbody>\n",
       "</table>\n",
       "</div>"
      ],
      "text/plain": [
       "       user_id  purchase_sum         country\n",
       "0  user_id_107           7.5  United Kingdom"
      ]
     },
     "execution_count": 90,
     "metadata": {},
     "output_type": "execute_result"
    }
   ],
   "source": [
    "purchases_pvt.head(1)"
   ]
  },
  {
   "cell_type": "code",
   "execution_count": 91,
   "metadata": {},
   "outputs": [],
   "source": [
    "# lets check if there is any difference between payers in their behaviuor. We will use ANOVA \n",
    "# (one-factor dispersion analysis) to check if difference between groups will exceed difference inside groups"
   ]
  },
  {
   "cell_type": "code",
   "execution_count": 92,
   "metadata": {},
   "outputs": [],
   "source": [
    "def anova_3gr(a,b,c, p_val=0.05):\n",
    "    common=a+b+c  \n",
    "    df=len(common)-1\n",
    "    \n",
    "    #sum of squares of differnece between group's mean and total mean\n",
    "    ssb=len(a)*((np.mean(a)-np.mean(common))**2)+\\\n",
    "        len(b)*((np.mean(b)-np.mean(common))**2)+\\\n",
    "        len(c)*((np.mean(c)-np.mean(common))**2)\n",
    "    \n",
    "    df_ssb = 3 - 1  #number of degrees of freedom for ssb counted as number of groups -1 \n",
    "    \n",
    "    #sum of squares of differnece within groups\n",
    "    ssw=sum([(a[i]-np.mean(a))**2 for i in range(len(a))]) + \\\n",
    "        sum([(b[i]-np.mean(b))**2 for i in range(len(b))]) + \\\n",
    "        sum([(c[i]-np.mean(c))**2 for i in range(len(c))])\n",
    "    \n",
    "    df_ssw=len(common) - 3  #number of degrees of freedom within groupd counted as total number of elements - total number of groups\n",
    "    \n",
    "    f_stat = (ssb/df_ssb)/(ssw/df_ssw) #counting f value \n",
    "    \n",
    "    pval=ss.f.sf(f_stat, df_ssb, df_ssw)\n",
    "    \n",
    "    resuls={'f_stats':f_stat,\n",
    "           'num_of_df':df,\n",
    "           'pval':round(pval,5)}\n",
    "    \n",
    "    return resuls"
   ]
  },
  {
   "cell_type": "code",
   "execution_count": null,
   "metadata": {},
   "outputs": [],
   "source": []
  },
  {
   "cell_type": "code",
   "execution_count": null,
   "metadata": {},
   "outputs": [],
   "source": [
    "#we have to clean purchasers data set to avoid impact of emissions while making the descision "
   ]
  },
  {
   "cell_type": "code",
   "execution_count": 96,
   "metadata": {},
   "outputs": [],
   "source": [
    "purchases_pvt_clean=pd.DataFrame(columns=purchases_pvt.columns)\n",
    "\n",
    "for country in purchases_pvt['country'].unique():\n",
    "    \n",
    "    country_df=purchases_pvt[purchases_pvt['country']==country]\n",
    "    \n",
    "    # cut of everything upper 90 percentile for each country\n",
    "    country_df=country_df[country_df['purchase_sum']<np.percentile(country_df['purchase_sum'],90)] \n",
    "    \n",
    "    purchases_pvt_clean=purchases_pvt_clean.append(country_df)\n",
    "    "
   ]
  },
  {
   "cell_type": "code",
   "execution_count": null,
   "metadata": {},
   "outputs": [],
   "source": []
  },
  {
   "cell_type": "code",
   "execution_count": 98,
   "metadata": {},
   "outputs": [],
   "source": [
    "# creating groups from cleaned dataset\n",
    "\n",
    "group_a=list(purchases_pvt_clean[purchases_pvt_clean['country']=='United States']['purchase_sum'])\n",
    "group_b=list(purchases_pvt_clean[purchases_pvt_clean['country']=='Canada']['purchase_sum'])\n",
    "group_c=list(purchases_pvt_clean[purchases_pvt_clean['country']=='United Kingdom']['purchase_sum'])"
   ]
  },
  {
   "cell_type": "code",
   "execution_count": 99,
   "metadata": {},
   "outputs": [
    {
     "data": {
      "text/plain": [
       "{'f_stats': 1.4319447164205088, 'num_of_df': 55, 'pval': 0.24793}"
      ]
     },
     "execution_count": 99,
     "metadata": {},
     "output_type": "execute_result"
    }
   ],
   "source": [
    "anova_3gr(group_a,group_b,group_c)"
   ]
  },
  {
   "cell_type": "code",
   "execution_count": 100,
   "metadata": {},
   "outputs": [
    {
     "data": {
      "text/plain": [
       "'./arppu_dispersion.html'"
      ]
     },
     "execution_count": 100,
     "metadata": {},
     "output_type": "execute_result"
    }
   ],
   "source": [
    "box_plot=px.box(purchases_pvt, \n",
    "                x=\"country\", \n",
    "                y=\"purchase_sum\", \n",
    "                points='all', \n",
    "                title=\"ARPPU dispersion by country\")\n",
    "\n",
    "\n",
    "\n",
    "plotly.offline.plot(box_plot, filename='./arppu_dispersion.html')"
   ]
  },
  {
   "cell_type": "code",
   "execution_count": null,
   "metadata": {},
   "outputs": [],
   "source": []
  },
  {
   "cell_type": "markdown",
   "metadata": {},
   "source": [
    "### Conclusion: \n",
    "    \n",
    "### as p values are more than 0.05 for chi-squared test for payers cvr and annova test for ARPPU dispersion we dont see any\n",
    "### statistically confirmed difference between 3 groups of users (based on data we have)"
   ]
  },
  {
   "cell_type": "code",
   "execution_count": null,
   "metadata": {},
   "outputs": [],
   "source": []
  },
  {
   "cell_type": "code",
   "execution_count": null,
   "metadata": {},
   "outputs": [],
   "source": []
  }
 ],
 "metadata": {
  "kernelspec": {
   "display_name": "Python 3",
   "language": "python",
   "name": "python3"
  },
  "language_info": {
   "codemirror_mode": {
    "name": "ipython",
    "version": 3
   },
   "file_extension": ".py",
   "mimetype": "text/x-python",
   "name": "python",
   "nbconvert_exporter": "python",
   "pygments_lexer": "ipython3",
   "version": "3.7.6"
  }
 },
 "nbformat": 4,
 "nbformat_minor": 4
}
